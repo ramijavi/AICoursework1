{
 "cells": [
  {
   "cell_type": "markdown",
   "metadata": {},
   "source": [
    "# Coursework 1\n",
    "\n",
    "\n",
    "Author: Javier Ramirez\n",
    "\n",
    "Date: 11/11/2019"
   ]
  },
  {
   "cell_type": "markdown",
   "metadata": {},
   "source": [
    "## Introduction\n",
    "\n",
    "In this coursework, we will be creating and training an Artificial Neural Network in order to perform multi-class classification, and we will try to achieve the most accurate training possible. For this purpose, we will be using the TensorFlow and Keras Python libraries.\n",
    "\n",
    "### Dataset\n",
    "\n",
    "We will use the Keras Fashion-MNIST database. This is a dataset that includes a total of 70,000 28x28 grayscale images classified within 10 fashion categories. We will use 60,000 of these images for training our network, and 10,000 for testing the already trained model. Each of these images has a label (0-9) that indicates what fashion category it has been classified within. The labels correspond to the following:\n",
    "    \n",
    "    Label   Description    \n",
    "\n",
    "       0\tT-shirt/top\n",
    "       1\tTrouser\n",
    "       2\tPullover\n",
    "       3\tDress\n",
    "       4\tCoat\n",
    "       5\tSandal\n",
    "       6\tShirt\n",
    "       7\tSneaker\n",
    "       8\tBag\n",
    "       9\tAnkle boot\n",
    "\n",
    "### Goal\n",
    "\n",
    "Our goal with this experiment is to create and train an ANN using the Fashion-MNIST database. Once this ANN has been created and trained, we will play with the different hyper-parameters that affect the training process in order to find which combination of parameters gives us the best results, achieving the most accurate training possible.\n",
    "\n",
    "The parameters we will change within our network are: learning rate, number of hidden layers, number of units in each layer, number of epochs, dropout value, and weight regularization. We will modify these parameters, then train our network, and lastly, test the network and record the results."
   ]
  },
  {
   "cell_type": "markdown",
   "metadata": {},
   "source": [
    "## Methods\n",
    "\n",
    "In this section, we will write and explain the code for creating and training our ANN.\n",
    "\n",
    "### Dependencies\n",
    "\n",
    "First, we need to import all the necessary depenencies in order to create and train our network."
   ]
  },
  {
   "cell_type": "code",
   "execution_count": 1,
   "metadata": {},
   "outputs": [
    {
     "name": "stderr",
     "output_type": "stream",
     "text": [
      "Using TensorFlow backend.\n"
     ]
    }
   ],
   "source": [
    "from tensorflow.keras.datasets import fashion_mnist\n",
    "from tensorflow.keras import models\n",
    "from tensorflow.keras import layers\n",
    "from tensorflow.keras.utils import to_categorical\n",
    "from tensorflow.keras import optimizers\n",
    "from keras import regularizers"
   ]
  },
  {
   "cell_type": "markdown",
   "metadata": {},
   "source": [
    "### Data Loading\n",
    "\n",
    "After importing the fashion_mnist dataset to our sketch, along with other dependencies, we can load the dataset onto our machine."
   ]
  },
  {
   "cell_type": "code",
   "execution_count": 2,
   "metadata": {},
   "outputs": [],
   "source": [
    "(train_images, train_labels), (test_images, test_labels) = fashion_mnist.load_data()"
   ]
  },
  {
   "cell_type": "markdown",
   "metadata": {},
   "source": [
    "### Data Reshaping & Value Normalization\n",
    "\n",
    "The original training data is an array of shape (60000, 28, 28) of type uint8 with values in the [0, 255], which indicates the greyscale value of each pixel in each of the 60,000 training images. The same applies for the test data.\n",
    "\n",
    "In order to feed in the data in a shape that our networks expects, we will have to reshape it. With the code below, we will transform the training data into a float32 array of shape (60000, 28 * 28) with values between 0 and 1, and the test data into a float32 array of shape (10000, 28 * 28) with values between 0 and 1."
   ]
  },
  {
   "cell_type": "code",
   "execution_count": 3,
   "metadata": {},
   "outputs": [],
   "source": [
    "train_images = train_images.reshape((60000, 28 * 28))\n",
    "train_images = train_images.astype('float32') / 255\n",
    "\n",
    "test_images = test_images.reshape((10000, 28 * 28))\n",
    "test_images = test_images.astype('float32') / 255"
   ]
  },
  {
   "cell_type": "markdown",
   "metadata": {},
   "source": [
    "### Categorical Encoding\n",
    "\n",
    "Next, we categorically encode the labels. This means that instead of having a 1 dimensional array for each set (training and testing) that contains all the labels of that set, i.e. [4, 6, 1, 6, 3 ... 4, 8, 7, 1], we will have an array of shape (60000, 10) for the training set and another one of shape (10000, 10) for the test set. These arrays are vectors of 0s and 1s that indicate which label each image has, i.e. [0, 0, 0 ... 1, 0] for label 8."
   ]
  },
  {
   "cell_type": "code",
   "execution_count": 4,
   "metadata": {},
   "outputs": [],
   "source": [
    "train_labels = to_categorical(train_labels)\n",
    "test_labels = to_categorical(test_labels)"
   ]
  },
  {
   "cell_type": "markdown",
   "metadata": {},
   "source": [
    "### Validation Data\n",
    "\n",
    "We create a validation set in order to monitor the accuracy of the model during training. We will use one third of the images on the training set as the validation set."
   ]
  },
  {
   "cell_type": "code",
   "execution_count": 5,
   "metadata": {},
   "outputs": [],
   "source": [
    "val_images = train_images[:20000]\n",
    "partial_images = train_images[20000:]\n",
    "\n",
    "val_labels = train_labels[:20000]\n",
    "partial_labels = train_labels[20000:]"
   ]
  },
  {
   "cell_type": "markdown",
   "metadata": {},
   "source": [
    "All the code written up to this point will remain unchanged throughout all our experimentation. This is because so far, we have only loaded our input and changed its shape, which is an important and necessary part of creating our network, but does not include any hyper-parameters that can change the training results.\n",
    "\n",
    "From now on, the code written will be responsible for building and training our network, and the hyper-parameters within it will be changed in order to evaluate their effect on the training process. The exact code found below is the version of the code that includes the values of the hyper-parameters that yield the best results after experimentation."
   ]
  },
  {
   "cell_type": "markdown",
   "metadata": {},
   "source": [
    "### Build Network\n",
    "\n",
    "With the input data sorted out correctly, our first step now is to build our network. We will build a model that is sequential, which will not change through our experimentation. Our model will be made up of dense layers, which will also not change. On the other hand, we will experiment with the number of hidden layers, the number of nodes within each of these layers, the batch size, the dropout value, and the weight regularisation."
   ]
  },
  {
   "cell_type": "code",
   "execution_count": 6,
   "metadata": {},
   "outputs": [],
   "source": [
    "network = models.Sequential()\n",
    "network.add(layers.Dense(512, activation='relu', input_shape=(28 * 28,)))\n",
    "#network.add(layers.Dropout(0.5))\n",
    "network.add(layers.Dense(512, activation='relu'))\n",
    "#network.add(layers.Dropout(0.5))\n",
    "network.add(layers.Dense(10, activation='softmax'))"
   ]
  },
  {
   "cell_type": "markdown",
   "metadata": {},
   "source": [
    "### Compile Network\n",
    "\n",
    "In this step, we will compile our network. The only hyper-parameter in this piece of code is the Learning Rate, which we will change in order to find the most appropiate one for this specific scenario."
   ]
  },
  {
   "cell_type": "code",
   "execution_count": 7,
   "metadata": {},
   "outputs": [],
   "source": [
    "network.compile(optimizer=optimizers.RMSprop(lr=0.001),\n",
    "                loss='categorical_crossentropy',\n",
    "                metrics=['accuracy'])"
   ]
  },
  {
   "cell_type": "markdown",
   "metadata": {},
   "source": [
    "### Training\n",
    "\n",
    "With our network already built, we are ready to start training it using the fit() function. Here we find two hyper-parameters, the epoch number and the batch size, two variables that are very important in the training process, and which we will also play with."
   ]
  },
  {
   "cell_type": "code",
   "execution_count": 8,
   "metadata": {},
   "outputs": [
    {
     "name": "stdout",
     "output_type": "stream",
     "text": [
      "Train on 40000 samples, validate on 20000 samples\n",
      "Epoch 1/30\n",
      "WARNING:tensorflow:Entity <function Function._initialize_uninitialized_variables.<locals>.initialize_variables at 0x00000088707FAE58> could not be transformed and will be executed as-is. Please report this to the AutoGraph team. When filing the bug, set the verbosity to 10 (on Linux, `export AUTOGRAPH_VERBOSITY=10`) and attach the full output. Cause: module 'gast' has no attribute 'Num'\n",
      "WARNING: Entity <function Function._initialize_uninitialized_variables.<locals>.initialize_variables at 0x00000088707FAE58> could not be transformed and will be executed as-is. Please report this to the AutoGraph team. When filing the bug, set the verbosity to 10 (on Linux, `export AUTOGRAPH_VERBOSITY=10`) and attach the full output. Cause: module 'gast' has no attribute 'Num'\n",
      "40000/40000 [==============================] - 5s 134us/sample - loss: 0.6767 - accuracy: 0.7545 - val_loss: 0.4784 - val_accuracy: 0.8242\n",
      "Epoch 2/30\n",
      "40000/40000 [==============================] - 5s 117us/sample - loss: 0.4394 - accuracy: 0.8373 - val_loss: 0.5421 - val_accuracy: 0.7973\n",
      "Epoch 3/30\n",
      "40000/40000 [==============================] - 4s 109us/sample - loss: 0.3778 - accuracy: 0.8596 - val_loss: 0.6712 - val_accuracy: 0.7495\n",
      "Epoch 4/30\n",
      "40000/40000 [==============================] - 4s 107us/sample - loss: 0.3442 - accuracy: 0.8730 - val_loss: 0.4199 - val_accuracy: 0.8515\n",
      "Epoch 5/30\n",
      "40000/40000 [==============================] - 5s 130us/sample - loss: 0.3194 - accuracy: 0.8798 - val_loss: 0.3880 - val_accuracy: 0.8600\n",
      "Epoch 6/30\n",
      "40000/40000 [==============================] - 5s 121us/sample - loss: 0.2947 - accuracy: 0.8898 - val_loss: 0.3671 - val_accuracy: 0.8690\n",
      "Epoch 7/30\n",
      "40000/40000 [==============================] - 5s 115us/sample - loss: 0.2792 - accuracy: 0.8948 - val_loss: 0.4117 - val_accuracy: 0.8676\n",
      "Epoch 8/30\n",
      "40000/40000 [==============================] - 4s 110us/sample - loss: 0.2614 - accuracy: 0.9012 - val_loss: 0.4521 - val_accuracy: 0.8414\n",
      "Epoch 9/30\n",
      "40000/40000 [==============================] - 5s 116us/sample - loss: 0.2489 - accuracy: 0.9062 - val_loss: 0.4411 - val_accuracy: 0.8554\n",
      "Epoch 10/30\n",
      "40000/40000 [==============================] - 5s 113us/sample - loss: 0.2375 - accuracy: 0.9104 - val_loss: 0.4027 - val_accuracy: 0.8658\n",
      "Epoch 11/30\n",
      "40000/40000 [==============================] - 5s 114us/sample - loss: 0.2270 - accuracy: 0.9135 - val_loss: 0.4232 - val_accuracy: 0.8675\n",
      "Epoch 12/30\n",
      "40000/40000 [==============================] - 5s 113us/sample - loss: 0.2162 - accuracy: 0.9172 - val_loss: 0.4302 - val_accuracy: 0.8704\n",
      "Epoch 13/30\n",
      "40000/40000 [==============================] - 4s 112us/sample - loss: 0.2091 - accuracy: 0.9205 - val_loss: 0.5122 - val_accuracy: 0.8477\n",
      "Epoch 14/30\n",
      "40000/40000 [==============================] - 5s 115us/sample - loss: 0.1983 - accuracy: 0.9251 - val_loss: 0.4823 - val_accuracy: 0.8635\n",
      "Epoch 15/30\n",
      "40000/40000 [==============================] - 5s 129us/sample - loss: 0.1927 - accuracy: 0.9266 - val_loss: 0.3948 - val_accuracy: 0.8832\n",
      "Epoch 16/30\n",
      "40000/40000 [==============================] - 5s 119us/sample - loss: 0.1857 - accuracy: 0.9293 - val_loss: 0.4007 - val_accuracy: 0.8810\n",
      "Epoch 17/30\n",
      "40000/40000 [==============================] - 5s 115us/sample - loss: 0.1779 - accuracy: 0.9316 - val_loss: 0.4222 - val_accuracy: 0.8896\n",
      "Epoch 18/30\n",
      "40000/40000 [==============================] - 4s 112us/sample - loss: 0.1720 - accuracy: 0.9339 - val_loss: 0.5835 - val_accuracy: 0.8543\n",
      "Epoch 19/30\n",
      "40000/40000 [==============================] - 5s 129us/sample - loss: 0.1677 - accuracy: 0.9362 - val_loss: 0.5186 - val_accuracy: 0.8741\n",
      "Epoch 20/30\n",
      "40000/40000 [==============================] - 5s 115us/sample - loss: 0.1640 - accuracy: 0.9366 - val_loss: 0.4765 - val_accuracy: 0.8738\n",
      "Epoch 21/30\n",
      "40000/40000 [==============================] - 5s 118us/sample - loss: 0.1595 - accuracy: 0.9381 - val_loss: 0.4439 - val_accuracy: 0.8889\n",
      "Epoch 22/30\n",
      "40000/40000 [==============================] - 5s 114us/sample - loss: 0.1520 - accuracy: 0.9417 - val_loss: 0.4315 - val_accuracy: 0.8971\n",
      "Epoch 23/30\n",
      "40000/40000 [==============================] - 5s 126us/sample - loss: 0.1515 - accuracy: 0.9422 - val_loss: 0.4926 - val_accuracy: 0.8813\n",
      "Epoch 24/30\n",
      "40000/40000 [==============================] - 5s 116us/sample - loss: 0.1461 - accuracy: 0.9447 - val_loss: 0.5020 - val_accuracy: 0.8885\n",
      "Epoch 25/30\n",
      "40000/40000 [==============================] - 4s 110us/sample - loss: 0.1423 - accuracy: 0.9467 - val_loss: 0.4740 - val_accuracy: 0.8898\n",
      "Epoch 26/30\n",
      "40000/40000 [==============================] - 4s 110us/sample - loss: 0.1387 - accuracy: 0.9472 - val_loss: 0.5587 - val_accuracy: 0.8794\n",
      "Epoch 27/30\n",
      "40000/40000 [==============================] - 5s 115us/sample - loss: 0.1330 - accuracy: 0.9495 - val_loss: 0.5406 - val_accuracy: 0.8923\n",
      "Epoch 28/30\n",
      "40000/40000 [==============================] - 5s 115us/sample - loss: 0.1325 - accuracy: 0.9491 - val_loss: 0.6209 - val_accuracy: 0.8730\n",
      "Epoch 29/30\n",
      "40000/40000 [==============================] - 5s 115us/sample - loss: 0.1303 - accuracy: 0.9517 - val_loss: 0.5680 - val_accuracy: 0.8803\n",
      "Epoch 30/30\n",
      "40000/40000 [==============================] - 5s 113us/sample - loss: 0.1276 - accuracy: 0.9530 - val_loss: 0.5850 - val_accuracy: 0.8881\n"
     ]
    }
   ],
   "source": [
    "history = network.fit(partial_images,\n",
    "                    partial_labels,\n",
    "                    epochs=30,\n",
    "                    batch_size=256,\n",
    "                    validation_data=(val_images, val_labels))"
   ]
  },
  {
   "cell_type": "markdown",
   "metadata": {},
   "source": [
    "### Testing\n",
    "\n",
    "Now that the network has already been trained, we can test it against our test data, which is a part of the original data that the network has not been exposed to yet. This will help us to measure how well we've trained our network."
   ]
  },
  {
   "cell_type": "code",
   "execution_count": 9,
   "metadata": {},
   "outputs": [
    {
     "name": "stdout",
     "output_type": "stream",
     "text": [
      "test_acc: 0.8834\n"
     ]
    }
   ],
   "source": [
    "test_loss, test_acc = network.evaluate(test_images, test_labels, verbose=0)\n",
    "print('test_acc:', test_acc)"
   ]
  },
  {
   "cell_type": "markdown",
   "metadata": {},
   "source": [
    "## Results\n",
    "\n",
    "As mentioned above, the hyper-parameters that we have played with are: learning rate, number of hidden layers, number of units in each layer, number of epochs, dropout value, and weight regularization. Because there are so many different combinations of the values of these parameters that we could have tested, we have focused on one paramater at a time. This way, we have tried different values of the same parameter in different runs, and have chosen the one that yields the best result, moving forward to testing other parameters with that new value.\n",
    "\n",
    "We ran a total of 23 training sessions, tring to achieve the highest test accuracy possible. The results of these runs has been recorded in the table below."
   ]
  },
  {
   "cell_type": "markdown",
   "metadata": {},
   "source": [
    "|Run | Learning Rate | Hidden Layers | Units in Layers | Batch Size | Epochs | Dropout | Weight Regularization | Training Loss | Training Accuracy | Validation Loss | Validation Accuracy | Test Accuracy \n",
    "|:--:|:-----:|:--:|:--:|:--:|:--:|:--:|:--:|:--:|:--:|:--:|:--:|:--:|\n",
    "| 1 | 0.01 | 1 | 512 | 512 | 20 | No | No | 0.2841 | 0.8987 | 0.8324 | 0.8110 | 0.799\n",
    "| 2 | 0.01 | 2 | 512 | 512 | 20 | No | No | 0.3350 | 0.8810 | 0.6233 | 0.8372 | 0.829\n",
    "| 3 | 0.01 | 3 | 512 | 512 | 20 | No | No | 0.3485 | 0.8746 | 0.6889 | 0.8418 | 0.838\n",
    "| 4 | 0.01 | 1 | 1024 | 512 | 20 | No | No | 0.2817 | 0.8968 | 0.5081 | 0.8539 | 0.8447\n",
    "| 5 | 0.01 | 2 | 1024 | 512 | 20 | No | No | 0.3438 | 0.8766 | 0.5364 | 0.8562 | 0.8507\n",
    "| 6 | 0.01 | 3 | 1024 | 512 | 20 | No | No | 0.3731 | 0.8647 | 0.7014 | 0.7932 | 0.7897\n",
    "| 7 | 0.01 | 1 | 256 | 512 | 20 | No | No | 0.2426 | 0.9157 | 0.9899 | 0.7872 | 0.7855\n",
    "| 8 | 0.01 | 2 | 256 | 512 | 20 | No | No | 0.3349 | 0.8776 | 0.6486 | 0.8330 | 0.8253\n",
    "| 9 | 0.01 | 3 | 256 | 512 | 20 | No | No | 0.3466 | 0.8737 | 0.5323 | 0.8387 | 0.8303\n",
    "| 10 | 0.01 | 2 | 512 | 512 | 10 | No | No | 0.3908 | 0.8585 | 0.7264 | 0.7771 | 0.7691\n",
    "| 11 | 0.01 | 2 | 512 | 512 | 30 | No | No | 0.3134 | 0.8946 | 0.6825 | 0.7771 | 0.8594\n",
    "| 12 | 0.001 | 2 | 512 | 512 | 30 | No | No | 0.1299 | 0.9498 | 0.4550 | 0.8763 | 0.8755\n",
    "| 13 | 0.1 | 2 | 512 | 512 | 30 | No | No | 1.5681 | 0.3484 | 1.5987 | 0.3436 | 0.3489\n",
    "| 14 | 0.001 | 2 | 512 | 256 | 30 | No | No | 0.1309 | 0.9509 | 0.6034 | 0.8886 | 0.8871\n",
    "| 15 | 0.001 | 2 | 512 | 128 | 30 | No | No | 0.1645 | 0.9426 | 0.6566 | 0.8801 | 0.8801\n",
    "| 16 | 0.001 | 2 | 512 | 256 | 10 | No | No | 0.0921 | 0.9664 | 1.3838 | 0.8716 | 0.8658\n",
    "| 17 | 0.001 | 2 | 512 | 256 | 10 | 0.5 | No | 0.3549 | 0.8727 | 0.3598 | 0.8697 | 0.8615\n",
    "| 18 | 0.001 | 2 | 512 | 256 | 30 | 0.5 | No | 0.2726 | 0.9017 | 0.3834 | 0.8893 | 0.8851\n",
    "| 19 | 0.001 | 2 | 512 | 256 | 30 | 0.2 | No | 0.1858 | 0.9299 | 0.5133 | 0.8848 | 0.8782\n",
    "| 20 | 0.001 | 2 | 512 | 256 | 30 | 0.5 | L1 0.001 | 1.2634 | 0.7706 | 1.1609 | 0.7991 | 0.7865\n",
    "| 21 | 0.001 | 2 | 512 | 256 | 30 | 0.5 | L2 0.001 | 0.5109| 0.8512 | 0.5084 | 0.8528 | 0.8465\n",
    "| 22 | 0.001 | 2 | 512 | 256 | 10 | No | No | 0.2700 | 0.9015 | 0.3748 | 0.8907 | 0.8829\n",
    "| 23 | 0.001 | 2 | 512 | 256 | 2 | No | No | 0.2706 | 0.9050 | 0.3804 | 0.8929 | 0.8839"
   ]
  },
  {
   "cell_type": "markdown",
   "metadata": {},
   "source": [
    "As we can observe, we obtained the highest result on run 14 with an accuracy of 89%. In this run, we used 2 hidden layers with 512 nodes each, a 256 batch size, a learning rate of 0.001, 30 epochs, no dropout, and no weight regularization.\n",
    "\n",
    "Below, is a graph showing the training and validation loss through the total 30 epochs. "
   ]
  },
  {
   "cell_type": "code",
   "execution_count": 11,
   "metadata": {},
   "outputs": [
    {
     "data": {
      "image/png": "[encoded data removed]",
      "text/plain": [
       "<Figure size 432x288 with 1 Axes>"
      ]
     },
     "metadata": {
      "needs_background": "light"
     },
     "output_type": "display_data"
    }
   ],
   "source": [
    "import matplotlib.pyplot as plt\n",
    "\n",
    "loss = history.history['loss']\n",
    "val_loss = history.history['val_loss']\n",
    "\n",
    "epochs = range(1, len(loss) + 1)\n",
    "\n",
    "plt.plot(epochs, loss, 'bo', label='Training loss')\n",
    "plt.plot(epochs, val_loss, 'b', label='Validation loss')\n",
    "plt.title('Training and validation loss')\n",
    "plt.xlabel('Epochs')\n",
    "plt.ylabel('Loss')\n",
    "plt.legend()\n",
    "\n",
    "plt.show()"
   ]
  },
  {
   "cell_type": "markdown",
   "metadata": {},
   "source": [
    "We can observe that the model starts overfitting somewhere around 5 and 10 epochs, so we shouldn't need a 30 epoch run to achieve high accuracy. That's why we ran two extra tests at the end, changing only the epochs and no other hyper-parameter. In these test, with 10 and 2 epochs, we obtained almost the same accuracy as in the 30 epoch run."
   ]
  },
  {
   "cell_type": "markdown",
   "metadata": {},
   "source": [
    "## Evaluation"
   ]
  },
  {
   "cell_type": "markdown",
   "metadata": {},
   "source": [
    "We have observed that, in this scenario, the architecture of our network, i.e. the number of layers and nodes per layer, has been the most decisive variable in the training process, affecting the accuracy of the training greatly. Making the Learning Rate smaller was also succesful at improving the accuracy, while making it bigger had a debastating effect (accuracy went down to 35% with a LR of 0.1). Other hyper-parameters on the other hand did not have such a drastic effect on the training, but rather a small one. Even though we achieved our highest accuracy at 30 epochs, we demonstrated that overfitting happened before the 10 first epochs, and therefore such a high number of epochs is not necessary to achieve high accuracy. In fact, overfitting is an issue we must be aware of when working with ANNs, and must try to avoid it.\n",
    "\n",
    "We have made good improvement on the accuracy of our network by tweaking the different hyper-parameters that condition its training, however, it is clear that the model used in this network is not ideal for this dataset, as a 89% percent accuracy is not high enough to be applied to a real life scenario. A convolutional network would probably be a better choice of architechture for this task."
   ]
  }
 ],
 "metadata": {
  "kernelspec": {
   "display_name": "Python 3",
   "language": "python",
   "name": "python3"
  },
  "language_info": {
   "codemirror_mode": {
    "name": "ipython",
    "version": 3
   },
   "file_extension": ".py",
   "mimetype": "text/x-python",
   "name": "python",
   "nbconvert_exporter": "python",
   "pygments_lexer": "ipython3",
   "version": "3.7.4"
  }
 },
 "nbformat": 4,
 "nbformat_minor": 2
}
