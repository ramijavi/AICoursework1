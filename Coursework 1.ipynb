{
 "cells": [
  {
   "cell_type": "markdown",
   "metadata": {},
   "source": [
    "# Coursework 1\n",
    "\n",
    "\n",
    "Author: Javier Ramirez\n",
    "\n",
    "Date: 11/11/2019"
   ]
  },
  {
   "cell_type": "markdown",
   "metadata": {},
   "source": [
    "## Introduction\n",
    "\n",
    "In this coursework, we will be creating and training an Artificial Neural Network in order to perform multi-class classification, and we will try to achieve the most accurate training possible.\n",
    "\n",
    "### Dataset\n",
    "\n",
    "We will use the Keras Fashion-MNIST database. This is a dataset that includes a total of 70,000 28x28 grayscale images classified within 10 fashion categories. We will use 60,000 of these images for training our network, and 10,000 for testing the already trained model. Each of these images has a label (0-9) that indicates what fashion category it has been classified within. The labels correspond to the following:\n",
    "    \n",
    "    Label   Description    \n",
    "\n",
    "       0\tT-shirt/top\n",
    "       1\tTrouser\n",
    "       2\tPullover\n",
    "       3\tDress\n",
    "       4\tCoat\n",
    "       5\tSandal\n",
    "       6\tShirt\n",
    "       7\tSneaker\n",
    "       8\tBag\n",
    "       9\tAnkle boot\n",
    "\n",
    "### Goal\n",
    "\n",
    "Our goal with this experiment is to create and train an ANN using the Fashion-MNIST database. Once this ANN has been created and trained, we will play with the different parameters that affect the training process in order to find which combination of parameters gives us the best results, achieving the most accurate training possible.\n",
    "\n",
    "The parameters we will change within our network are: learning rate, number of hidden layers, number of units in each layer, number of epochs, dropout value, and weight regularization. We will modify these parameters, then train our network, and lastly, test the network and record the results."
   ]
  },
  {
   "cell_type": "markdown",
   "metadata": {},
   "source": [
    "## Methods\n",
    "\n",
    "In this section, we will write and explain the code for creating and training our ANN.\n",
    "\n",
    "### Dependencies\n",
    "\n",
    "First, we need to import all the necessary depenencies in order to create and train our network."
   ]
  },
  {
   "cell_type": "code",
   "execution_count": 139,
   "metadata": {},
   "outputs": [
    {
     "name": "stderr",
     "output_type": "stream",
     "text": [
      "Using TensorFlow backend.\n"
     ]
    }
   ],
   "source": [
    "from tensorflow.keras.datasets import fashion_mnist\n",
    "from tensorflow.keras import models\n",
    "from tensorflow.keras import layers\n",
    "from tensorflow.keras.utils import to_categorical\n",
    "from tensorflow.keras import optimizers\n",
    "from keras import regularizers"
   ]
  },
  {
   "cell_type": "markdown",
   "metadata": {},
   "source": [
    "### Data Loading\n",
    "\n",
    "After importing the fashion_mnist dataset to our sketch, along with other dependencies, we can load the dataset onto our machine."
   ]
  },
  {
   "cell_type": "code",
   "execution_count": 140,
   "metadata": {},
   "outputs": [],
   "source": [
    "(train_images, train_labels), (test_images, test_labels) = fashion_mnist.load_data()"
   ]
  },
  {
   "cell_type": "markdown",
   "metadata": {},
   "source": [
    "### Data Reshaping & Value Normalization\n",
    "\n",
    "The original training data is an array of shape (60000, 28, 28) of type uint8 with values in the [0, 255], which indicates the greyscale value of each pixel in each of the 60,000 training images. The same applies for the test data.\n",
    "\n",
    "In order to feed in the data in a shape that our networks expects, we will have to reshape it. With the code below, we will transform the training data into a float32 array of shape (60000, 28 * 28) with values between 0 and 1, and the test data into a float32 array of shape (10000, 28 * 28) with values between 0 and 1."
   ]
  },
  {
   "cell_type": "code",
   "execution_count": 141,
   "metadata": {},
   "outputs": [],
   "source": [
    "train_images = train_images.reshape((60000, 28 * 28))\n",
    "train_images = train_images.astype('float32') / 255\n",
    "\n",
    "test_images = test_images.reshape((10000, 28 * 28))\n",
    "test_images = test_images.astype('float32') / 255"
   ]
  },
  {
   "cell_type": "markdown",
   "metadata": {},
   "source": [
    "### Categorical Encoding\n",
    "\n",
    "Next, we categorically encode the labels. This means that instead of having a 1 dimensional array for each set (training and testing) that contains all the labels of that set, i.e. [4, 6, 1, 6, 3 ... 4, 8, 7, 1], we will have an array of shape (60000, 10) for the training set and another one of shape (10000, 10) for the test set. These arrays are vectors of 0s and 1s that indicate which label each image has, i.e. [0, 0, 0 ... 1, 0] for label 8."
   ]
  },
  {
   "cell_type": "code",
   "execution_count": 142,
   "metadata": {},
   "outputs": [],
   "source": [
    "train_labels = to_categorical(train_labels)\n",
    "test_labels = to_categorical(test_labels)"
   ]
  },
  {
   "cell_type": "markdown",
   "metadata": {},
   "source": [
    "### Validation Data\n",
    "\n",
    "We create a validation set in order to monitor the accuracy of the model during training. We will use one third of the images on the training set as the validation set."
   ]
  },
  {
   "cell_type": "code",
   "execution_count": 143,
   "metadata": {},
   "outputs": [],
   "source": [
    "val_images = train_images[:20000]\n",
    "partial_images = train_images[20000:]\n",
    "\n",
    "val_labels = train_labels[:20000]\n",
    "partial_labels = train_labels[20000:]"
   ]
  },
  {
   "cell_type": "markdown",
   "metadata": {},
   "source": [
    "All the code written up to this point will remain unchanged throughout all our experimentation. This is because so far, we have only loaded our input and changed its shape, which is an important and necessary part of creating our network, but does not include any hyper-parameters that can change the training results.\n",
    "\n",
    "From now on, the code written will be responsible for building and training our network, and the hyper-parameters within it will be changed in order to evaluate their effect on the training process. The exact code found below is the version of the code that includes the values of the hyper-parameters that yield the best results."
   ]
  },
  {
   "cell_type": "markdown",
   "metadata": {},
   "source": []
  },
  {
   "cell_type": "markdown",
   "metadata": {},
   "source": [
    "### Build Network\n",
    "\n",
    "With the input data sorted out correctly, our first step now is to build our network. We will build a model that is sequential, which will not change through our experimentation. Our model will be made up of dense layers, which will also not change. On the other hand, we will experiment with the number of hidden layers, the number of nodes within each of these layers, the batch size, the dropout value, and the weight regularisation."
   ]
  },
  {
   "cell_type": "code",
   "execution_count": 173,
   "metadata": {},
   "outputs": [],
   "source": [
    "network = models.Sequential()\n",
    "network.add(layers.Dense(512, activation='relu', input_shape=(28 * 28,)))\n",
    "network.add(layers.Dropout(0.5))\n",
    "network.add(layers.Dense(512, activation='relu'))\n",
    "network.add(layers.Dropout(0.5))\n",
    "network.add(layers.Dense(10, activation='softmax'))"
   ]
  },
  {
   "cell_type": "markdown",
   "metadata": {},
   "source": [
    "### Compile Network\n",
    "\n",
    "In this step, we will compile our network. The only hyper-parameter in this piece of code is the Learning Rate, which we will change in order to find the most appropiate one for this specific scenario."
   ]
  },
  {
   "cell_type": "code",
   "execution_count": 174,
   "metadata": {},
   "outputs": [],
   "source": [
    "network.compile(optimizer=optimizers.RMSprop(lr=0.001),\n",
    "                loss='categorical_crossentropy',\n",
    "                metrics=['accuracy'])"
   ]
  },
  {
   "cell_type": "markdown",
   "metadata": {},
   "source": [
    "### Training\n",
    "\n",
    "With our network already built, we are ready to start training it using the fit() function. Here we find two hyper-parameters, the epoch number and the batch size, two variables that are very important in the training process, and which we will also play with."
   ]
  },
  {
   "cell_type": "code",
   "execution_count": 181,
   "metadata": {},
   "outputs": [
    {
     "name": "stdout",
     "output_type": "stream",
     "text": [
      "Train on 40000 samples, validate on 20000 samples\n",
      "Epoch 1/30\n",
      "40000/40000 [==============================] - 10s 244us/sample - loss: 0.3074 - accuracy: 0.8903 - val_loss: 0.3827 - val_accuracy: 0.8715\n",
      "Epoch 2/30\n",
      "40000/40000 [==============================] - 5s 120us/sample - loss: 0.3037 - accuracy: 0.8917 - val_loss: 0.3731 - val_accuracy: 0.8811\n",
      "Epoch 3/30\n",
      "40000/40000 [==============================] - 5s 115us/sample - loss: 0.2999 - accuracy: 0.8927 - val_loss: 0.3960 - val_accuracy: 0.8737\n",
      "Epoch 4/30\n",
      "40000/40000 [==============================] - 5s 122us/sample - loss: 0.2992 - accuracy: 0.8931 - val_loss: 0.3784 - val_accuracy: 0.8681\n",
      "Epoch 5/30\n",
      "40000/40000 [==============================] - 5s 124us/sample - loss: 0.2946 - accuracy: 0.8927 - val_loss: 0.3832 - val_accuracy: 0.8839\n",
      "Epoch 6/30\n",
      "40000/40000 [==============================] - 5s 118us/sample - loss: 0.2960 - accuracy: 0.8930 - val_loss: 0.3920 - val_accuracy: 0.8725\n",
      "Epoch 7/30\n",
      "40000/40000 [==============================] - 5s 129us/sample - loss: 0.2953 - accuracy: 0.8929 - val_loss: 0.3602 - val_accuracy: 0.8883\n",
      "Epoch 8/30\n",
      "40000/40000 [==============================] - 5s 119us/sample - loss: 0.2929 - accuracy: 0.8954 - val_loss: 0.4170 - val_accuracy: 0.8769\n",
      "Epoch 9/30\n",
      "40000/40000 [==============================] - 5s 119us/sample - loss: 0.2880 - accuracy: 0.8964 - val_loss: 0.4032 - val_accuracy: 0.8706\n",
      "Epoch 10/30\n",
      "40000/40000 [==============================] - 5s 115us/sample - loss: 0.2853 - accuracy: 0.8987 - val_loss: 0.4024 - val_accuracy: 0.8704\n",
      "Epoch 11/30\n",
      "40000/40000 [==============================] - 5s 117us/sample - loss: 0.2850 - accuracy: 0.8970 - val_loss: 0.3924 - val_accuracy: 0.8749\n",
      "Epoch 12/30\n",
      "40000/40000 [==============================] - 5s 118us/sample - loss: 0.2831 - accuracy: 0.9003 - val_loss: 0.4206 - val_accuracy: 0.8769\n",
      "Epoch 13/30\n",
      "40000/40000 [==============================] - 5s 118us/sample - loss: 0.2855 - accuracy: 0.8989 - val_loss: 0.4061 - val_accuracy: 0.8832\n",
      "Epoch 14/30\n",
      "40000/40000 [==============================] - 5s 122us/sample - loss: 0.2822 - accuracy: 0.9012 - val_loss: 0.3852 - val_accuracy: 0.8781\n",
      "Epoch 15/30\n",
      "40000/40000 [==============================] - 5s 136us/sample - loss: 0.2784 - accuracy: 0.9015 - val_loss: 0.3897 - val_accuracy: 0.8878\n",
      "Epoch 16/30\n",
      "40000/40000 [==============================] - 6s 148us/sample - loss: 0.2730 - accuracy: 0.9002 - val_loss: 0.3875 - val_accuracy: 0.8892\n",
      "Epoch 17/30\n",
      "40000/40000 [==============================] - 4s 112us/sample - loss: 0.2768 - accuracy: 0.9011 - val_loss: 0.3803 - val_accuracy: 0.8898\n",
      "Epoch 18/30\n",
      "40000/40000 [==============================] - 5s 130us/sample - loss: 0.2744 - accuracy: 0.9027 - val_loss: 0.3857 - val_accuracy: 0.8863\n",
      "Epoch 19/30\n",
      "40000/40000 [==============================] - 4s 106us/sample - loss: 0.2712 - accuracy: 0.9040 - val_loss: 0.4071 - val_accuracy: 0.8841\n",
      "Epoch 20/30\n",
      "40000/40000 [==============================] - 4s 105us/sample - loss: 0.2757 - accuracy: 0.9026 - val_loss: 0.3851 - val_accuracy: 0.8880\n",
      "Epoch 21/30\n",
      "40000/40000 [==============================] - 5s 125us/sample - loss: 0.2692 - accuracy: 0.9038 - val_loss: 0.4717 - val_accuracy: 0.8832\n",
      "Epoch 22/30\n",
      "40000/40000 [==============================] - 5s 131us/sample - loss: 0.2687 - accuracy: 0.9044 - val_loss: 0.4077 - val_accuracy: 0.8873\n",
      "Epoch 23/30\n",
      "40000/40000 [==============================] - 5s 134us/sample - loss: 0.2662 - accuracy: 0.9043 - val_loss: 0.4326 - val_accuracy: 0.8845\n",
      "Epoch 24/30\n",
      "40000/40000 [==============================] - 6s 138us/sample - loss: 0.2652 - accuracy: 0.9049 - val_loss: 0.4263 - val_accuracy: 0.8845\n",
      "Epoch 25/30\n",
      "40000/40000 [==============================] - 5s 133us/sample - loss: 0.2648 - accuracy: 0.9069 - val_loss: 0.4458 - val_accuracy: 0.8777\n",
      "Epoch 26/30\n",
      "40000/40000 [==============================] - 5s 136us/sample - loss: 0.2624 - accuracy: 0.9078 - val_loss: 0.4430 - val_accuracy: 0.8866\n",
      "Epoch 27/30\n",
      "40000/40000 [==============================] - 5s 125us/sample - loss: 0.2629 - accuracy: 0.9060 - val_loss: 0.4269 - val_accuracy: 0.8844\n",
      "Epoch 28/30\n",
      "40000/40000 [==============================] - 5s 125us/sample - loss: 0.2638 - accuracy: 0.9072 - val_loss: 0.4279 - val_accuracy: 0.8910\n",
      "Epoch 29/30\n",
      "40000/40000 [==============================] - 5s 124us/sample - loss: 0.2620 - accuracy: 0.9074 - val_loss: 0.4861 - val_accuracy: 0.8711\n",
      "Epoch 30/30\n",
      "40000/40000 [==============================] - 5s 125us/sample - loss: 0.2587 - accuracy: 0.9079 - val_loss: 0.4349 - val_accuracy: 0.8896\n"
     ]
    }
   ],
   "source": [
    "history = network.fit(partial_images,\n",
    "                    partial_labels,\n",
    "                    epochs=30,\n",
    "                    batch_size=256,\n",
    "                    validation_data=(val_images, val_labels))"
   ]
  },
  {
   "cell_type": "markdown",
   "metadata": {},
   "source": [
    "### Testing\n",
    "\n",
    "Now that the network has already been trained, we can test it against our test data, which is a part of the original data that the network has not been exposed to yet. This will help us to actually measure how well we've trained our network."
   ]
  },
  {
   "cell_type": "code",
   "execution_count": 182,
   "metadata": {},
   "outputs": [
    {
     "name": "stdout",
     "output_type": "stream",
     "text": [
      "test_acc: 0.8812\n"
     ]
    }
   ],
   "source": [
    "test_loss, test_acc = network.evaluate(test_images, test_labels, verbose=0)\n",
    "print('test_acc:', test_acc)"
   ]
  },
  {
   "cell_type": "markdown",
   "metadata": {},
   "source": [
    "## Results\n",
    "\n",
    "As mentioned above, the hyper-parameters that we have played with are: learning rate, number of hidden layers, number of units in each layer, number of epochs, dropout value, and weight regularization. Because there are so many different combinations of the values of these parameters that we could have tested, we have focused on one paramater at a time. This way, we have tried different values of the same parameter in different runs, and have chosen the one that yields the best result, moving forward to testing other parameters with that new value.\n",
    "\n",
    "We ran a total of 23 training sessions, tring to achieve the highest test accuracy possible. The results of these runs has been recorded in the table below."
   ]
  },
  {
   "cell_type": "markdown",
   "metadata": {},
   "source": [
    "|Run | Learning Rate | Hidden Layers | Units in Layers | Batch Size | Epochs | Dropout | Weight Regularization | Training Loss | Training Accuracy | Validation Loss | Validation Accuracy | Test Accuracy \n",
    "|:--:|:-----:|:--:|:--:|:--:|:--:|:--:|:--:|:--:|:--:|:--:|:--:|:--:|\n",
    "| 1 | 0.01 | 1 | 512 | 512 | 20 | No | No | 0.2841 | 0.8987 | 0.8324 | 0.8110 | 0.799\n",
    "| 2 | 0.01 | 2 | 512 | 512 | 20 | No | No | 0.3350 | 0.8810 | 0.6233 | 0.8372 | 0.829\n",
    "| 3 | 0.01 | 3 | 512 | 512 | 20 | No | No | 0.3485 | 0.8746 | 0.6889 | 0.8418 | 0.838\n",
    "| 4 | 0.01 | 1 | 1024 | 512 | 20 | No | No | 0.2817 | 0.8968 | 0.5081 | 0.8539 | 0.8447\n",
    "| 5 | 0.01 | 2 | 1024 | 512 | 20 | No | No | 0.3438 | 0.8766 | 0.5364 | 0.8562 | 0.8507\n",
    "| 6 | 0.01 | 3 | 1024 | 512 | 20 | No | No | 0.3731 | 0.8647 | 0.7014 | 0.7932 | 0.7897\n",
    "| 7 | 0.01 | 1 | 256 | 512 | 20 | No | No | 0.2426 | 0.9157 | 0.9899 | 0.7872 | 0.7855\n",
    "| 8 | 0.01 | 2 | 256 | 512 | 20 | No | No | 0.3349 | 0.8776 | 0.6486 | 0.8330 | 0.8253\n",
    "| 9 | 0.01 | 3 | 256 | 512 | 20 | No | No | 0.3466 | 0.8737 | 0.5323 | 0.8387 | 0.8303\n",
    "| 10 | 0.01 | 2 | 512 | 512 | 10 | No | No | 0.3908 | 0.8585 | 0.7264 | 0.7771 | 0.7691\n",
    "| 11 | 0.01 | 2 | 512 | 512 | 30 | No | No | 0.3134 | 0.8946 | 0.6825 | 0.7771 | 0.8594\n",
    "| 12 | 0.001 | 2 | 512 | 512 | 30 | No | No | 0.1299 | 0.9498 | 0.4550 | 0.8763 | 0.8755\n",
    "| 13 | 0.1 | 2 | 512 | 512 | 30 | No | No | 1.5681 | 0.3484 | 1.5987 | 0.3436 | 0.3464\n",
    "| 14 | 0.001 | 2 | 512 | 256 | 30 | No | No | 0.1309 | 0.9509 | 0.6034 | 0.8886 | 0.8871\n",
    "| 15 | 0.001 | 2 | 512 | 128 | 30 | No | No | 0.1645 | 0.9426 | 0.6566 | 0.8801 | 0.8801\n",
    "| 16 | 0.001 | 2 | 512 | 256 | 10 | No | No | 0.0921 | 0.9664 | 1.3838 | 0.8716 | 0.8658\n",
    "| 17 | 0.001 | 2 | 512 | 256 | 10 | 0.5 | No | 0.3549 | 0.8727 | 0.3598 | 0.8697 | 0.8615\n",
    "| 18 | 0.001 | 2 | 512 | 256 | 30 | 0.5 | No | 0.2726 | 0.9017 | 0.3834 | 0.8893 | 0.8851\n",
    "| 19 | 0.001 | 2 | 512 | 256 | 30 | 0.2 | No | 0.1858 | 0.9299 | 0.5133 | 0.8848 | 0.8782\n",
    "| 20 | 0.001 | 2 | 512 | 256 | 30 | 0.5 | L1 0.001 | 1.2634 | 0.7706 | 1.1609 | 0.7991 | 0.7865\n",
    "| 21 | 0.001 | 2 | 512 | 256 | 30 | 0.5 | L2 0.001 | 0.5109| 0.8512 | 0.5084 | 0.8528 | 0.8465\n",
    "| 22 | 0.001 | 2 | 512 | 256 | 10 | 0.5 | No | 0.2700 | 0.9015 | 0.3748 | 0.8907 | 0.8829\n",
    "| 23 | 0.001 | 2 | 512 | 256 | 2 | 0.5 | No | 0.2706 | 0.9050 | 0.3804 | 0.8929 | 0.8839"
   ]
  },
  {
   "cell_type": "markdown",
   "metadata": {},
   "source": [
    "As we can observe, we obtained the highest result on run 18 with an accuracy of 89%. In this run, we used 2 hidden layers with 512 nodes each, a 256 batch size, a learning rate of 0.001, 30 epochs, a 0.5 dropout value, and no weight regularization.\n",
    "\n",
    "Below, is a graph showing the traning and validation loss through the total 30 epochs. "
   ]
  },
  {
   "cell_type": "code",
   "execution_count": 184,
   "metadata": {},
   "outputs": [
    {
     "data": {
      "image/png": "[encoded data removed]",
      "text/plain": [
       "<Figure size 432x288 with 1 Axes>"
      ]
     },
     "metadata": {
      "needs_background": "light"
     },
     "output_type": "display_data"
    }
   ],
   "source": [
    "import matplotlib.pyplot as plt\n",
    "\n",
    "loss = history.history['loss']\n",
    "val_loss = history.history['val_loss']\n",
    "\n",
    "epochs = range(1, len(loss) + 1)\n",
    "\n",
    "plt.plot(epochs, loss, 'bo', label='Training loss')\n",
    "plt.plot(epochs, val_loss, 'b', label='Validation loss')\n",
    "plt.title('Training and validation loss')\n",
    "plt.xlabel('Epochs')\n",
    "plt.ylabel('Loss')\n",
    "plt.legend()\n",
    "\n",
    "plt.show()"
   ]
  },
  {
   "cell_type": "markdown",
   "metadata": {},
   "source": [
    "We can observe that the model starts overfitting somewhere around 5 and 10 epochs, so we shouldn't need a 30 epoch run to achieve high accuracy. That's why, we ran an extra 2 tests at the end, changing only the epochs and no other hyper-parameter. In these test, with 10 and 2 epochs, we obtained almost the same accuracy as in the 30 epoch run."
   ]
  },
  {
   "cell_type": "markdown",
   "metadata": {},
   "source": [
    "## Evaluation"
   ]
  },
  {
   "cell_type": "markdown",
   "metadata": {},
   "source": [
    "Although we have made good improvement on the accuracy of our network by changing the different hyper-parameters that condition its training, it is clear that the model used in this network is not ideal for this dataset, as only 89% percent accuracy could be achieved.\n",
    "\n",
    "It has also been made clear that we can achieve almost the same accuracy with a low number of epochs than with a large number. This is something important to take from this, because running a low number of epochs can be much less time consuming when training a network."
   ]
  },
  {
   "cell_type": "code",
   "execution_count": null,
   "metadata": {},
   "outputs": [],
   "source": []
  }
 ],
 "metadata": {
  "kernelspec": {
   "display_name": "Python 3",
   "language": "python",
   "name": "python3"
  },
  "language_info": {
   "codemirror_mode": {
    "name": "ipython",
    "version": 3
   },
   "file_extension": ".py",
   "mimetype": "text/x-python",
   "name": "python",
   "nbconvert_exporter": "python",
   "pygments_lexer": "ipython3",
   "version": "3.7.4"
  }
 },
 "nbformat": 4,
 "nbformat_minor": 2
}
